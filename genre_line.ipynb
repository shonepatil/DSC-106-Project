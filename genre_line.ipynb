{
 "cells": [
  {
   "cell_type": "code",
   "execution_count": 1,
   "metadata": {},
   "outputs": [],
   "source": [
    "import pandas as pd\n",
    "import numpy as np\n",
    "import altair as alt"
   ]
  },
  {
   "cell_type": "code",
   "execution_count": 2,
   "metadata": {},
   "outputs": [],
   "source": [
    "# bring in data\n",
    "df = pd.read_csv('data_master.csv')"
   ]
  },
  {
   "cell_type": "code",
   "execution_count": 3,
   "metadata": {},
   "outputs": [],
   "source": [
    "# Create year column\n",
    "df['year'] = df['release_date'].astype('datetime64[ns]').apply(lambda x: x.year)"
   ]
  },
  {
   "cell_type": "code",
   "execution_count": 4,
   "metadata": {},
   "outputs": [
    {
     "name": "stderr",
     "output_type": "stream",
     "text": [
      "<ipython-input-4-5c51d63fb89f>:8: UserWarning: Boolean Series key will be reindexed to match DataFrame index.\n",
      "  collabs = collabs[collabs['primary_genre'].isin(top_g)][(collabs['year'] >= 1970) & (collabs['year'] <= 2020)]\n"
     ]
    }
   ],
   "source": [
    "# Setup data\n",
    "collabs = df[['year', 'primary_genre', 'is_collab']].groupby(['year', 'primary_genre']).mean().reset_index()\n",
    "genres = collabs['primary_genre'].unique()\n",
    "\n",
    "top_g = set(df['primary_genre'].value_counts().index[2:14]\\\n",
    "            .drop(['country rock', 'tango', 'latin', 'funk', 'soft rock']))\n",
    "\n",
    "collabs = collabs[collabs['primary_genre'].isin(top_g)][(collabs['year'] >= 1970) & (collabs['year'] <= 2020)]"
   ]
  },
  {
   "cell_type": "code",
   "execution_count": 31,
   "metadata": {},
   "outputs": [
    {
     "data": {
      "text/html": [
       "\n",
       "<div id=\"altair-viz-665b3432e59448baa1abaf94b63fec32\"></div>\n",
       "<script type=\"text/javascript\">\n",
       "  (function(spec, embedOpt){\n",
       "    let outputDiv = document.currentScript.previousElementSibling;\n",
       "    if (outputDiv.id !== \"altair-viz-665b3432e59448baa1abaf94b63fec32\") {\n",
       "      outputDiv = document.getElementById(\"altair-viz-665b3432e59448baa1abaf94b63fec32\");\n",
       "    }\n",
       "    const paths = {\n",
       "      \"vega\": \"https://cdn.jsdelivr.net/npm//vega@5?noext\",\n",
       "      \"vega-lib\": \"https://cdn.jsdelivr.net/npm//vega-lib?noext\",\n",
       "      \"vega-lite\": \"https://cdn.jsdelivr.net/npm//vega-lite@4.8.1?noext\",\n",
       "      \"vega-embed\": \"https://cdn.jsdelivr.net/npm//vega-embed@6?noext\",\n",
       "    };\n",
       "\n",
       "    function loadScript(lib) {\n",
       "      return new Promise(function(resolve, reject) {\n",
       "        var s = document.createElement('script');\n",
       "        s.src = paths[lib];\n",
       "        s.async = true;\n",
       "        s.onload = () => resolve(paths[lib]);\n",
       "        s.onerror = () => reject(`Error loading script: ${paths[lib]}`);\n",
       "        document.getElementsByTagName(\"head\")[0].appendChild(s);\n",
       "      });\n",
       "    }\n",
       "\n",
       "    function showError(err) {\n",
       "      outputDiv.innerHTML = `<div class=\"error\" style=\"color:red;\">${err}</div>`;\n",
       "      throw err;\n",
       "    }\n",
       "\n",
       "    function displayChart(vegaEmbed) {\n",
       "      vegaEmbed(outputDiv, spec, embedOpt)\n",
       "        .catch(err => showError(`Javascript Error: ${err.message}<br>This usually means there's a typo in your chart specification. See the javascript console for the full traceback.`));\n",
       "    }\n",
       "\n",
       "    if(typeof define === \"function\" && define.amd) {\n",
       "      requirejs.config({paths});\n",
       "      require([\"vega-embed\"], displayChart, err => showError(`Error loading script: ${err.message}`));\n",
       "    } else if (typeof vegaEmbed === \"function\") {\n",
       "      displayChart(vegaEmbed);\n",
       "    } else {\n",
       "      loadScript(\"vega\")\n",
       "        .then(() => loadScript(\"vega-lite\"))\n",
       "        .then(() => loadScript(\"vega-embed\"))\n",
       "        .catch(showError)\n",
       "        .then(() => displayChart(vegaEmbed));\n",
       "    }\n",
       "  })({\"config\": {\"view\": {\"continuousWidth\": 400, \"continuousHeight\": 300}, \"legend\": {\"labelFontSize\": 20, \"symbolSize\": 900, \"symbolStrokeWidth\": 20, \"titleFontSize\": 20}}, \"data\": {\"name\": \"data-d24f9c9d2f8b5f21f98858408d24e3b1\"}, \"mark\": {\"type\": \"line\", \"size\": 3}, \"encoding\": {\"color\": {\"type\": \"nominal\", \"field\": \"primary_genre\"}, \"opacity\": {\"condition\": {\"value\": 1, \"selection\": \"selector044\"}, \"value\": 0.2}, \"tooltip\": [{\"type\": \"quantitative\", \"field\": \"is_collab\"}, {\"type\": \"quantitative\", \"field\": \"year\"}, {\"type\": \"nominal\", \"field\": \"primary_genre\"}], \"x\": {\"type\": \"ordinal\", \"field\": \"year\"}, \"y\": {\"type\": \"quantitative\", \"field\": \"is_collab\"}}, \"height\": 500, \"selection\": {\"selector044\": {\"type\": \"multi\", \"fields\": [\"primary_genre\"], \"bind\": \"legend\"}}, \"title\": \"Collaboration rate per year by Genre from 1970 to 2020\", \"width\": 1100, \"$schema\": \"https://vega.github.io/schema/vega-lite/v4.8.1.json\", \"datasets\": {\"data-d24f9c9d2f8b5f21f98858408d24e3b1\": [{\"year\": 1970, \"primary_genre\": \"adult standards\", \"is_collab\": 0.01904761904761905}, {\"year\": 1970, \"primary_genre\": \"classical\", \"is_collab\": 1.0}, {\"year\": 1970, \"primary_genre\": \"country\", \"is_collab\": 0.0}, {\"year\": 1970, \"primary_genre\": \"dance pop\", \"is_collab\": 0.0}, {\"year\": 1970, \"primary_genre\": \"pop\", \"is_collab\": 0.9}, {\"year\": 1970, \"primary_genre\": \"rock\", \"is_collab\": 0.01411764705882353}, {\"year\": 1971, \"primary_genre\": \"adult standards\", \"is_collab\": 0.07608695652173914}, {\"year\": 1971, \"primary_genre\": \"classical\", \"is_collab\": 1.0}, {\"year\": 1971, \"primary_genre\": \"country\", \"is_collab\": 0.0}, {\"year\": 1971, \"primary_genre\": \"dance pop\", \"is_collab\": 0.0}, {\"year\": 1971, \"primary_genre\": \"pop\", \"is_collab\": 0.0}, {\"year\": 1971, \"primary_genre\": \"rock\", \"is_collab\": 0.030379746835443037}, {\"year\": 1972, \"primary_genre\": \"adult standards\", \"is_collab\": 0.06862745098039216}, {\"year\": 1972, \"primary_genre\": \"classical\", \"is_collab\": 1.0}, {\"year\": 1972, \"primary_genre\": \"country\", \"is_collab\": 0.0}, {\"year\": 1972, \"primary_genre\": \"dance pop\", \"is_collab\": 0.0}, {\"year\": 1972, \"primary_genre\": \"pop\", \"is_collab\": 0.06896551724137931}, {\"year\": 1972, \"primary_genre\": \"rap\", \"is_collab\": 0.0}, {\"year\": 1972, \"primary_genre\": \"rock\", \"is_collab\": 0.030303030303030304}, {\"year\": 1973, \"primary_genre\": \"adult standards\", \"is_collab\": 0.08791208791208792}, {\"year\": 1973, \"primary_genre\": \"classical\", \"is_collab\": 1.0}, {\"year\": 1973, \"primary_genre\": \"country\", \"is_collab\": 0.0}, {\"year\": 1973, \"primary_genre\": \"dance pop\", \"is_collab\": 0.0}, {\"year\": 1973, \"primary_genre\": \"pop\", \"is_collab\": 0.15384615384615385}, {\"year\": 1973, \"primary_genre\": \"rap\", \"is_collab\": 0.0}, {\"year\": 1973, \"primary_genre\": \"rock\", \"is_collab\": 0.016107382550335572}, {\"year\": 1974, \"primary_genre\": \"adult standards\", \"is_collab\": 0.05263157894736842}, {\"year\": 1974, \"primary_genre\": \"classical\", \"is_collab\": 1.0}, {\"year\": 1974, \"primary_genre\": \"country\", \"is_collab\": 0.0}, {\"year\": 1974, \"primary_genre\": \"dance pop\", \"is_collab\": 0.0}, {\"year\": 1974, \"primary_genre\": \"pop\", \"is_collab\": 0.0}, {\"year\": 1974, \"primary_genre\": \"rap\", \"is_collab\": 0.0}, {\"year\": 1974, \"primary_genre\": \"rock\", \"is_collab\": 0.009271523178807948}, {\"year\": 1975, \"primary_genre\": \"adult standards\", \"is_collab\": 0.11475409836065574}, {\"year\": 1975, \"primary_genre\": \"classical\", \"is_collab\": 1.0}, {\"year\": 1975, \"primary_genre\": \"country\", \"is_collab\": 0.0}, {\"year\": 1975, \"primary_genre\": \"dance pop\", \"is_collab\": 0.0}, {\"year\": 1975, \"primary_genre\": \"pop\", \"is_collab\": 0.0}, {\"year\": 1975, \"primary_genre\": \"rap\", \"is_collab\": 0.0}, {\"year\": 1975, \"primary_genre\": \"rock\", \"is_collab\": 0.0361794500723589}, {\"year\": 1976, \"primary_genre\": \"adult standards\", \"is_collab\": 0.1016949152542373}, {\"year\": 1976, \"primary_genre\": \"classical\", \"is_collab\": 1.0}, {\"year\": 1976, \"primary_genre\": \"country\", \"is_collab\": 0.0}, {\"year\": 1976, \"primary_genre\": \"dance pop\", \"is_collab\": 0.0}, {\"year\": 1976, \"primary_genre\": \"pop\", \"is_collab\": 0.0}, {\"year\": 1976, \"primary_genre\": \"rap\", \"is_collab\": 0.0}, {\"year\": 1976, \"primary_genre\": \"rock\", \"is_collab\": 0.00804289544235925}, {\"year\": 1977, \"primary_genre\": \"adult standards\", \"is_collab\": 0.09375}, {\"year\": 1977, \"primary_genre\": \"classical\", \"is_collab\": 1.0}, {\"year\": 1977, \"primary_genre\": \"country\", \"is_collab\": 0.0}, {\"year\": 1977, \"primary_genre\": \"dance pop\", \"is_collab\": 0.0}, {\"year\": 1977, \"primary_genre\": \"pop\", \"is_collab\": 0.0}, {\"year\": 1977, \"primary_genre\": \"rap\", \"is_collab\": 0.0}, {\"year\": 1977, \"primary_genre\": \"rock\", \"is_collab\": 0.012401352874859075}, {\"year\": 1978, \"primary_genre\": \"adult standards\", \"is_collab\": 0.08695652173913043}, {\"year\": 1978, \"primary_genre\": \"classical\", \"is_collab\": 0.967741935483871}, {\"year\": 1978, \"primary_genre\": \"country\", \"is_collab\": 0.0}, {\"year\": 1978, \"primary_genre\": \"dance pop\", \"is_collab\": 0.4444444444444444}, {\"year\": 1978, \"primary_genre\": \"pop\", \"is_collab\": 0.0}, {\"year\": 1978, \"primary_genre\": \"rap\", \"is_collab\": 0.0}, {\"year\": 1978, \"primary_genre\": \"rock\", \"is_collab\": 0.030837004405286344}, {\"year\": 1979, \"primary_genre\": \"adult standards\", \"is_collab\": 0.0}, {\"year\": 1979, \"primary_genre\": \"classical\", \"is_collab\": 0.9166666666666666}, {\"year\": 1979, \"primary_genre\": \"country\", \"is_collab\": 0.07142857142857142}, {\"year\": 1979, \"primary_genre\": \"dance pop\", \"is_collab\": 0.11764705882352941}, {\"year\": 1979, \"primary_genre\": \"pop\", \"is_collab\": 0.0}, {\"year\": 1979, \"primary_genre\": \"rap\", \"is_collab\": 0.0}, {\"year\": 1979, \"primary_genre\": \"rock\", \"is_collab\": 0.034047919293820936}, {\"year\": 1980, \"primary_genre\": \"adult standards\", \"is_collab\": 0.0}, {\"year\": 1980, \"primary_genre\": \"classical\", \"is_collab\": 1.0}, {\"year\": 1980, \"primary_genre\": \"country\", \"is_collab\": 0.0}, {\"year\": 1980, \"primary_genre\": \"dance pop\", \"is_collab\": 0.17391304347826086}, {\"year\": 1980, \"primary_genre\": \"pop\", \"is_collab\": 0.0}, {\"year\": 1980, \"primary_genre\": \"rap\", \"is_collab\": 0.0}, {\"year\": 1980, \"primary_genre\": \"rock\", \"is_collab\": 0.005298013245033113}, {\"year\": 1981, \"primary_genre\": \"adult standards\", \"is_collab\": 0.07692307692307693}, {\"year\": 1981, \"primary_genre\": \"classical\", \"is_collab\": 1.0}, {\"year\": 1981, \"primary_genre\": \"dance pop\", \"is_collab\": 0.0}, {\"year\": 1981, \"primary_genre\": \"pop\", \"is_collab\": 0.0}, {\"year\": 1981, \"primary_genre\": \"rap\", \"is_collab\": 0.0}, {\"year\": 1981, \"primary_genre\": \"rock\", \"is_collab\": 0.02616279069767442}, {\"year\": 1982, \"primary_genre\": \"adult standards\", \"is_collab\": 0.019230769230769232}, {\"year\": 1982, \"primary_genre\": \"classical\", \"is_collab\": 1.0}, {\"year\": 1982, \"primary_genre\": \"country\", \"is_collab\": 0.2222222222222222}, {\"year\": 1982, \"primary_genre\": \"dance pop\", \"is_collab\": 0.4444444444444444}, {\"year\": 1982, \"primary_genre\": \"pop\", \"is_collab\": 0.2}, {\"year\": 1982, \"primary_genre\": \"rap\", \"is_collab\": 0.0}, {\"year\": 1982, \"primary_genre\": \"rock\", \"is_collab\": 0.00847457627118644}, {\"year\": 1983, \"primary_genre\": \"adult standards\", \"is_collab\": 0.0}, {\"year\": 1983, \"primary_genre\": \"classical\", \"is_collab\": 0.9590163934426229}, {\"year\": 1983, \"primary_genre\": \"country\", \"is_collab\": 0.0}, {\"year\": 1983, \"primary_genre\": \"dance pop\", \"is_collab\": 0.05128205128205128}, {\"year\": 1983, \"primary_genre\": \"pop\", \"is_collab\": 0.06451612903225806}, {\"year\": 1983, \"primary_genre\": \"rap\", \"is_collab\": 0.0}, {\"year\": 1983, \"primary_genre\": \"rock\", \"is_collab\": 0.03338391502276176}, {\"year\": 1984, \"primary_genre\": \"adult standards\", \"is_collab\": 0.12121212121212122}, {\"year\": 1984, \"primary_genre\": \"classical\", \"is_collab\": 1.0}, {\"year\": 1984, \"primary_genre\": \"country\", \"is_collab\": 0.6153846153846154}, {\"year\": 1984, \"primary_genre\": \"dance pop\", \"is_collab\": 0.0}, {\"year\": 1984, \"primary_genre\": \"pop\", \"is_collab\": 0.058823529411764705}, {\"year\": 1984, \"primary_genre\": \"rap\", \"is_collab\": 0.0}, {\"year\": 1984, \"primary_genre\": \"rock\", \"is_collab\": 0.011784511784511785}, {\"year\": 1985, \"primary_genre\": \"adult standards\", \"is_collab\": 0.06521739130434782}, {\"year\": 1985, \"primary_genre\": \"classical\", \"is_collab\": 1.0}, {\"year\": 1985, \"primary_genre\": \"country\", \"is_collab\": 0.125}, {\"year\": 1985, \"primary_genre\": \"dance pop\", \"is_collab\": 0.0}, {\"year\": 1985, \"primary_genre\": \"pop\", \"is_collab\": 0.1875}, {\"year\": 1985, \"primary_genre\": \"rap\", \"is_collab\": 0.0}, {\"year\": 1985, \"primary_genre\": \"rock\", \"is_collab\": 0.02909090909090909}, {\"year\": 1986, \"primary_genre\": \"adult standards\", \"is_collab\": 0.05128205128205128}, {\"year\": 1986, \"primary_genre\": \"classical\", \"is_collab\": 1.0}, {\"year\": 1986, \"primary_genre\": \"country\", \"is_collab\": 0.0}, {\"year\": 1986, \"primary_genre\": \"dance pop\", \"is_collab\": 0.0}, {\"year\": 1986, \"primary_genre\": \"pop\", \"is_collab\": 0.041666666666666664}, {\"year\": 1986, \"primary_genre\": \"rap\", \"is_collab\": 0.08}, {\"year\": 1986, \"primary_genre\": \"rock\", \"is_collab\": 0.03732503888024884}, {\"year\": 1987, \"primary_genre\": \"adult standards\", \"is_collab\": 0.22950819672131148}, {\"year\": 1987, \"primary_genre\": \"classical\", \"is_collab\": 1.0}, {\"year\": 1987, \"primary_genre\": \"country\", \"is_collab\": 0.4583333333333333}, {\"year\": 1987, \"primary_genre\": \"dance pop\", \"is_collab\": 0.12903225806451613}, {\"year\": 1987, \"primary_genre\": \"pop\", \"is_collab\": 0.1875}, {\"year\": 1987, \"primary_genre\": \"rap\", \"is_collab\": 0.125}, {\"year\": 1987, \"primary_genre\": \"rock\", \"is_collab\": 0.018487394957983194}, {\"year\": 1988, \"primary_genre\": \"adult standards\", \"is_collab\": 0.15384615384615385}, {\"year\": 1988, \"primary_genre\": \"classical\", \"is_collab\": 0.9848484848484849}, {\"year\": 1988, \"primary_genre\": \"country\", \"is_collab\": 0.0}, {\"year\": 1988, \"primary_genre\": \"dance pop\", \"is_collab\": 0.03508771929824561}, {\"year\": 1988, \"primary_genre\": \"pop\", \"is_collab\": 0.0}, {\"year\": 1988, \"primary_genre\": \"rap\", \"is_collab\": 0.11607142857142858}, {\"year\": 1988, \"primary_genre\": \"rock\", \"is_collab\": 0.013793103448275862}, {\"year\": 1989, \"primary_genre\": \"adult standards\", \"is_collab\": 0.2727272727272727}, {\"year\": 1989, \"primary_genre\": \"classical\", \"is_collab\": 0.9647058823529412}, {\"year\": 1989, \"primary_genre\": \"country\", \"is_collab\": 0.0}, {\"year\": 1989, \"primary_genre\": \"dance pop\", \"is_collab\": 0.038461538461538464}, {\"year\": 1989, \"primary_genre\": \"pop\", \"is_collab\": 0.041666666666666664}, {\"year\": 1989, \"primary_genre\": \"rap\", \"is_collab\": 0.027777777777777776}, {\"year\": 1989, \"primary_genre\": \"rock\", \"is_collab\": 0.01532567049808429}, {\"year\": 1990, \"primary_genre\": \"adult standards\", \"is_collab\": 0.07608695652173914}, {\"year\": 1990, \"primary_genre\": \"classical\", \"is_collab\": 1.0}, {\"year\": 1990, \"primary_genre\": \"country\", \"is_collab\": 0.0}, {\"year\": 1990, \"primary_genre\": \"dance pop\", \"is_collab\": 0.06896551724137931}, {\"year\": 1990, \"primary_genre\": \"pop\", \"is_collab\": 0.01818181818181818}, {\"year\": 1990, \"primary_genre\": \"rap\", \"is_collab\": 0.07777777777777778}, {\"year\": 1990, \"primary_genre\": \"rock\", \"is_collab\": 0.020253164556962026}, {\"year\": 1991, \"primary_genre\": \"adult standards\", \"is_collab\": 0.04522613065326633}, {\"year\": 1991, \"primary_genre\": \"classical\", \"is_collab\": 1.0}, {\"year\": 1991, \"primary_genre\": \"country\", \"is_collab\": 0.06896551724137931}, {\"year\": 1991, \"primary_genre\": \"dance pop\", \"is_collab\": 0.02564102564102564}, {\"year\": 1991, \"primary_genre\": \"pop\", \"is_collab\": 0.06451612903225806}, {\"year\": 1991, \"primary_genre\": \"rap\", \"is_collab\": 0.03669724770642202}, {\"year\": 1991, \"primary_genre\": \"rock\", \"is_collab\": 0.008547008547008548}, {\"year\": 1992, \"primary_genre\": \"adult standards\", \"is_collab\": 0.09523809523809523}, {\"year\": 1992, \"primary_genre\": \"classical\", \"is_collab\": 1.0}, {\"year\": 1992, \"primary_genre\": \"country\", \"is_collab\": 0.07142857142857142}, {\"year\": 1992, \"primary_genre\": \"dance pop\", \"is_collab\": 0.07017543859649122}, {\"year\": 1992, \"primary_genre\": \"pop\", \"is_collab\": 0.1}, {\"year\": 1992, \"primary_genre\": \"rap\", \"is_collab\": 0.08421052631578947}, {\"year\": 1992, \"primary_genre\": \"rock\", \"is_collab\": 0.00468384074941452}, {\"year\": 1993, \"primary_genre\": \"adult standards\", \"is_collab\": 0.2222222222222222}, {\"year\": 1993, \"primary_genre\": \"classical\", \"is_collab\": 0.96}, {\"year\": 1993, \"primary_genre\": \"country\", \"is_collab\": 0.47368421052631576}, {\"year\": 1993, \"primary_genre\": \"dance pop\", \"is_collab\": 0.09876543209876543}, {\"year\": 1993, \"primary_genre\": \"pop\", \"is_collab\": 0.0}, {\"year\": 1993, \"primary_genre\": \"rap\", \"is_collab\": 0.12658227848101267}, {\"year\": 1993, \"primary_genre\": \"rock\", \"is_collab\": 0.0219435736677116}, {\"year\": 1994, \"primary_genre\": \"adult standards\", \"is_collab\": 0.3333333333333333}, {\"year\": 1994, \"primary_genre\": \"classical\", \"is_collab\": 0.9795918367346939}, {\"year\": 1994, \"primary_genre\": \"country\", \"is_collab\": 0.0}, {\"year\": 1994, \"primary_genre\": \"dance pop\", \"is_collab\": 0.14285714285714285}, {\"year\": 1994, \"primary_genre\": \"pop\", \"is_collab\": 0.030303030303030304}, {\"year\": 1994, \"primary_genre\": \"rap\", \"is_collab\": 0.15822784810126583}, {\"year\": 1994, \"primary_genre\": \"rock\", \"is_collab\": 0.011494252873563218}, {\"year\": 1995, \"primary_genre\": \"adult standards\", \"is_collab\": 0.13559322033898305}, {\"year\": 1995, \"primary_genre\": \"classical\", \"is_collab\": 0.9782608695652174}, {\"year\": 1995, \"primary_genre\": \"country\", \"is_collab\": 0.0}, {\"year\": 1995, \"primary_genre\": \"dance pop\", \"is_collab\": 0.046511627906976744}, {\"year\": 1995, \"primary_genre\": \"pop\", \"is_collab\": 0.0673076923076923}, {\"year\": 1995, \"primary_genre\": \"rap\", \"is_collab\": 0.2641509433962264}, {\"year\": 1995, \"primary_genre\": \"rock\", \"is_collab\": 0.009966777408637873}, {\"year\": 1996, \"primary_genre\": \"adult standards\", \"is_collab\": 0.3137254901960784}, {\"year\": 1996, \"primary_genre\": \"classical\", \"is_collab\": 0.95}, {\"year\": 1996, \"primary_genre\": \"country\", \"is_collab\": 0.04}, {\"year\": 1996, \"primary_genre\": \"dance pop\", \"is_collab\": 0.10434782608695652}, {\"year\": 1996, \"primary_genre\": \"pop\", \"is_collab\": 0.22857142857142856}, {\"year\": 1996, \"primary_genre\": \"rap\", \"is_collab\": 0.31155778894472363}, {\"year\": 1996, \"primary_genre\": \"rock\", \"is_collab\": 0.007352941176470588}, {\"year\": 1997, \"primary_genre\": \"adult standards\", \"is_collab\": 0.37209302325581395}, {\"year\": 1997, \"primary_genre\": \"classical\", \"is_collab\": 1.0}, {\"year\": 1997, \"primary_genre\": \"country\", \"is_collab\": 0.05555555555555555}, {\"year\": 1997, \"primary_genre\": \"dance pop\", \"is_collab\": 0.24031007751937986}, {\"year\": 1997, \"primary_genre\": \"pop\", \"is_collab\": 0.17105263157894737}, {\"year\": 1997, \"primary_genre\": \"rap\", \"is_collab\": 0.30597014925373134}, {\"year\": 1997, \"primary_genre\": \"rock\", \"is_collab\": 0.014035087719298246}, {\"year\": 1998, \"primary_genre\": \"adult standards\", \"is_collab\": 0.047619047619047616}, {\"year\": 1998, \"primary_genre\": \"classical\", \"is_collab\": 1.0}, {\"year\": 1998, \"primary_genre\": \"country\", \"is_collab\": 0.08823529411764706}, {\"year\": 1998, \"primary_genre\": \"dance pop\", \"is_collab\": 0.12396694214876033}, {\"year\": 1998, \"primary_genre\": \"pop\", \"is_collab\": 0.20987654320987653}, {\"year\": 1998, \"primary_genre\": \"rap\", \"is_collab\": 0.4563106796116505}, {\"year\": 1998, \"primary_genre\": \"rock\", \"is_collab\": 0.018604651162790697}, {\"year\": 1999, \"primary_genre\": \"adult standards\", \"is_collab\": 0.140625}, {\"year\": 1999, \"primary_genre\": \"classical\", \"is_collab\": 1.0}, {\"year\": 1999, \"primary_genre\": \"country\", \"is_collab\": 0.07142857142857142}, {\"year\": 1999, \"primary_genre\": \"dance pop\", \"is_collab\": 0.10476190476190476}, {\"year\": 1999, \"primary_genre\": \"pop\", \"is_collab\": 0.1891891891891892}, {\"year\": 1999, \"primary_genre\": \"rap\", \"is_collab\": 0.43891402714932126}, {\"year\": 1999, \"primary_genre\": \"rock\", \"is_collab\": 0.05555555555555555}, {\"year\": 2000, \"primary_genre\": \"adult standards\", \"is_collab\": 0.08}, {\"year\": 2000, \"primary_genre\": \"classical\", \"is_collab\": 1.0}, {\"year\": 2000, \"primary_genre\": \"country\", \"is_collab\": 0.08}, {\"year\": 2000, \"primary_genre\": \"dance pop\", \"is_collab\": 0.2839506172839506}, {\"year\": 2000, \"primary_genre\": \"pop\", \"is_collab\": 0.0392156862745098}, {\"year\": 2000, \"primary_genre\": \"rap\", \"is_collab\": 0.4691358024691358}, {\"year\": 2000, \"primary_genre\": \"rock\", \"is_collab\": 0.034482758620689655}, {\"year\": 2001, \"primary_genre\": \"adult standards\", \"is_collab\": 0.1}, {\"year\": 2001, \"primary_genre\": \"classical\", \"is_collab\": 1.0}, {\"year\": 2001, \"primary_genre\": \"country\", \"is_collab\": 0.0}, {\"year\": 2001, \"primary_genre\": \"dance pop\", \"is_collab\": 0.21333333333333335}, {\"year\": 2001, \"primary_genre\": \"pop\", \"is_collab\": 0.06153846153846154}, {\"year\": 2001, \"primary_genre\": \"rap\", \"is_collab\": 0.3333333333333333}, {\"year\": 2001, \"primary_genre\": \"rock\", \"is_collab\": 0.021739130434782608}, {\"year\": 2002, \"primary_genre\": \"adult standards\", \"is_collab\": 0.07142857142857142}, {\"year\": 2002, \"primary_genre\": \"classical\", \"is_collab\": 0.9166666666666666}, {\"year\": 2002, \"primary_genre\": \"country\", \"is_collab\": 0.0196078431372549}, {\"year\": 2002, \"primary_genre\": \"dance pop\", \"is_collab\": 0.21875}, {\"year\": 2002, \"primary_genre\": \"pop\", \"is_collab\": 0.1360544217687075}, {\"year\": 2002, \"primary_genre\": \"rap\", \"is_collab\": 0.4807692307692308}, {\"year\": 2002, \"primary_genre\": \"rock\", \"is_collab\": 0.03557312252964427}, {\"year\": 2003, \"primary_genre\": \"adult standards\", \"is_collab\": 0.12}, {\"year\": 2003, \"primary_genre\": \"classical\", \"is_collab\": 0.9629629629629629}, {\"year\": 2003, \"primary_genre\": \"country\", \"is_collab\": 0.08}, {\"year\": 2003, \"primary_genre\": \"dance pop\", \"is_collab\": 0.22857142857142856}, {\"year\": 2003, \"primary_genre\": \"pop\", \"is_collab\": 0.2692307692307692}, {\"year\": 2003, \"primary_genre\": \"rap\", \"is_collab\": 0.40625}, {\"year\": 2003, \"primary_genre\": \"rock\", \"is_collab\": 0.027586206896551724}, {\"year\": 2004, \"primary_genre\": \"adult standards\", \"is_collab\": 0.15384615384615385}, {\"year\": 2004, \"primary_genre\": \"classical\", \"is_collab\": 0.95}, {\"year\": 2004, \"primary_genre\": \"country\", \"is_collab\": 0.08695652173913043}, {\"year\": 2004, \"primary_genre\": \"dance pop\", \"is_collab\": 0.3620689655172414}, {\"year\": 2004, \"primary_genre\": \"pop\", \"is_collab\": 0.17543859649122806}, {\"year\": 2004, \"primary_genre\": \"rap\", \"is_collab\": 0.4881889763779528}, {\"year\": 2004, \"primary_genre\": \"rock\", \"is_collab\": 0.023809523809523808}, {\"year\": 2005, \"primary_genre\": \"adult standards\", \"is_collab\": 0.2692307692307692}, {\"year\": 2005, \"primary_genre\": \"classical\", \"is_collab\": 1.0}, {\"year\": 2005, \"primary_genre\": \"country\", \"is_collab\": 0.030303030303030304}, {\"year\": 2005, \"primary_genre\": \"dance pop\", \"is_collab\": 0.34615384615384615}, {\"year\": 2005, \"primary_genre\": \"pop\", \"is_collab\": 0.19753086419753085}, {\"year\": 2005, \"primary_genre\": \"rap\", \"is_collab\": 0.4322033898305085}, {\"year\": 2005, \"primary_genre\": \"rock\", \"is_collab\": 0.021052631578947368}, {\"year\": 2006, \"primary_genre\": \"adult standards\", \"is_collab\": 0.08695652173913043}, {\"year\": 2006, \"primary_genre\": \"classical\", \"is_collab\": 1.0}, {\"year\": 2006, \"primary_genre\": \"country\", \"is_collab\": 0.04081632653061224}, {\"year\": 2006, \"primary_genre\": \"dance pop\", \"is_collab\": 0.3584905660377358}, {\"year\": 2006, \"primary_genre\": \"pop\", \"is_collab\": 0.20634920634920634}, {\"year\": 2006, \"primary_genre\": \"rap\", \"is_collab\": 0.48484848484848486}, {\"year\": 2006, \"primary_genre\": \"rock\", \"is_collab\": 0.015873015873015872}, {\"year\": 2007, \"primary_genre\": \"adult standards\", \"is_collab\": 0.10714285714285714}, {\"year\": 2007, \"primary_genre\": \"classical\", \"is_collab\": 0.95}, {\"year\": 2007, \"primary_genre\": \"country\", \"is_collab\": 0.06451612903225806}, {\"year\": 2007, \"primary_genre\": \"dance pop\", \"is_collab\": 0.3157894736842105}, {\"year\": 2007, \"primary_genre\": \"pop\", \"is_collab\": 0.275}, {\"year\": 2007, \"primary_genre\": \"rap\", \"is_collab\": 0.4936708860759494}, {\"year\": 2007, \"primary_genre\": \"rock\", \"is_collab\": 0.027586206896551724}, {\"year\": 2008, \"primary_genre\": \"adult standards\", \"is_collab\": 0.016216216216216217}, {\"year\": 2008, \"primary_genre\": \"classical\", \"is_collab\": 1.0}, {\"year\": 2008, \"primary_genre\": \"country\", \"is_collab\": 0.034482758620689655}, {\"year\": 2008, \"primary_genre\": \"dance pop\", \"is_collab\": 0.4772727272727273}, {\"year\": 2008, \"primary_genre\": \"pop\", \"is_collab\": 0.16}, {\"year\": 2008, \"primary_genre\": \"rap\", \"is_collab\": 0.5645161290322581}, {\"year\": 2008, \"primary_genre\": \"rock\", \"is_collab\": 0.02857142857142857}, {\"year\": 2009, \"primary_genre\": \"adult standards\", \"is_collab\": 0.041666666666666664}, {\"year\": 2009, \"primary_genre\": \"classical\", \"is_collab\": 1.0}, {\"year\": 2009, \"primary_genre\": \"country\", \"is_collab\": 0.017857142857142856}, {\"year\": 2009, \"primary_genre\": \"dance pop\", \"is_collab\": 0.3103448275862069}, {\"year\": 2009, \"primary_genre\": \"pop\", \"is_collab\": 0.16770186335403728}, {\"year\": 2009, \"primary_genre\": \"rap\", \"is_collab\": 0.4642857142857143}, {\"year\": 2009, \"primary_genre\": \"rock\", \"is_collab\": 0.02702702702702703}, {\"year\": 2010, \"primary_genre\": \"adult standards\", \"is_collab\": 0.5}, {\"year\": 2010, \"primary_genre\": \"classical\", \"is_collab\": 1.0}, {\"year\": 2010, \"primary_genre\": \"country\", \"is_collab\": 0.1125}, {\"year\": 2010, \"primary_genre\": \"dance pop\", \"is_collab\": 0.42857142857142855}, {\"year\": 2010, \"primary_genre\": \"pop\", \"is_collab\": 0.21304347826086956}, {\"year\": 2010, \"primary_genre\": \"rap\", \"is_collab\": 0.390625}, {\"year\": 2010, \"primary_genre\": \"rock\", \"is_collab\": 0.027972027972027972}, {\"year\": 2011, \"primary_genre\": \"adult standards\", \"is_collab\": 0.14}, {\"year\": 2011, \"primary_genre\": \"classical\", \"is_collab\": 1.0}, {\"year\": 2011, \"primary_genre\": \"country\", \"is_collab\": 0.0625}, {\"year\": 2011, \"primary_genre\": \"dance pop\", \"is_collab\": 0.6}, {\"year\": 2011, \"primary_genre\": \"pop\", \"is_collab\": 0.3333333333333333}, {\"year\": 2011, \"primary_genre\": \"rap\", \"is_collab\": 0.43243243243243246}, {\"year\": 2011, \"primary_genre\": \"rock\", \"is_collab\": 0.04132231404958678}, {\"year\": 2012, \"primary_genre\": \"adult standards\", \"is_collab\": 0.25}, {\"year\": 2012, \"primary_genre\": \"classical\", \"is_collab\": 1.0}, {\"year\": 2012, \"primary_genre\": \"country\", \"is_collab\": 0.1111111111111111}, {\"year\": 2012, \"primary_genre\": \"dance pop\", \"is_collab\": 0.34782608695652173}, {\"year\": 2012, \"primary_genre\": \"pop\", \"is_collab\": 0.22965116279069767}, {\"year\": 2012, \"primary_genre\": \"rap\", \"is_collab\": 0.6111111111111112}, {\"year\": 2012, \"primary_genre\": \"rock\", \"is_collab\": 0.13636363636363635}, {\"year\": 2013, \"primary_genre\": \"adult standards\", \"is_collab\": 0.18181818181818182}, {\"year\": 2013, \"primary_genre\": \"classical\", \"is_collab\": 1.0}, {\"year\": 2013, \"primary_genre\": \"country\", \"is_collab\": 0.14}, {\"year\": 2013, \"primary_genre\": \"dance pop\", \"is_collab\": 0.55}, {\"year\": 2013, \"primary_genre\": \"pop\", \"is_collab\": 0.21397379912663755}, {\"year\": 2013, \"primary_genre\": \"rap\", \"is_collab\": 0.47752808988764045}, {\"year\": 2013, \"primary_genre\": \"rock\", \"is_collab\": 0.00980392156862745}, {\"year\": 2014, \"primary_genre\": \"adult standards\", \"is_collab\": 0.6666666666666666}, {\"year\": 2014, \"primary_genre\": \"classical\", \"is_collab\": 1.0}, {\"year\": 2014, \"primary_genre\": \"country\", \"is_collab\": 0.06896551724137931}, {\"year\": 2014, \"primary_genre\": \"dance pop\", \"is_collab\": 0.6153846153846154}, {\"year\": 2014, \"primary_genre\": \"pop\", \"is_collab\": 0.2634920634920635}, {\"year\": 2014, \"primary_genre\": \"rap\", \"is_collab\": 0.4214876033057851}, {\"year\": 2014, \"primary_genre\": \"rock\", \"is_collab\": 0.015384615384615385}, {\"year\": 2015, \"primary_genre\": \"adult standards\", \"is_collab\": 0.0}, {\"year\": 2015, \"primary_genre\": \"classical\", \"is_collab\": 0.9411764705882353}, {\"year\": 2015, \"primary_genre\": \"country\", \"is_collab\": 0.13513513513513514}, {\"year\": 2015, \"primary_genre\": \"dance pop\", \"is_collab\": 0.6666666666666666}, {\"year\": 2015, \"primary_genre\": \"pop\", \"is_collab\": 0.2089041095890411}, {\"year\": 2015, \"primary_genre\": \"rap\", \"is_collab\": 0.48520710059171596}, {\"year\": 2015, \"primary_genre\": \"rock\", \"is_collab\": 0.0213903743315508}, {\"year\": 2016, \"primary_genre\": \"adult standards\", \"is_collab\": 0.375}, {\"year\": 2016, \"primary_genre\": \"classical\", \"is_collab\": 1.0}, {\"year\": 2016, \"primary_genre\": \"country\", \"is_collab\": 0.08888888888888889}, {\"year\": 2016, \"primary_genre\": \"dance pop\", \"is_collab\": 1.0}, {\"year\": 2016, \"primary_genre\": \"pop\", \"is_collab\": 0.3017241379310345}, {\"year\": 2016, \"primary_genre\": \"rap\", \"is_collab\": 0.32083333333333336}, {\"year\": 2016, \"primary_genre\": \"rock\", \"is_collab\": 0.04895104895104895}, {\"year\": 2017, \"primary_genre\": \"adult standards\", \"is_collab\": 0.18181818181818182}, {\"year\": 2017, \"primary_genre\": \"classical\", \"is_collab\": 0.95}, {\"year\": 2017, \"primary_genre\": \"country\", \"is_collab\": 0.09090909090909091}, {\"year\": 2017, \"primary_genre\": \"dance pop\", \"is_collab\": 0.6666666666666666}, {\"year\": 2017, \"primary_genre\": \"pop\", \"is_collab\": 0.32452830188679244}, {\"year\": 2017, \"primary_genre\": \"rap\", \"is_collab\": 0.4371584699453552}, {\"year\": 2017, \"primary_genre\": \"rock\", \"is_collab\": 0.0}, {\"year\": 2018, \"primary_genre\": \"adult standards\", \"is_collab\": 0.0}, {\"year\": 2018, \"primary_genre\": \"classical\", \"is_collab\": 1.0}, {\"year\": 2018, \"primary_genre\": \"country\", \"is_collab\": 0.2}, {\"year\": 2018, \"primary_genre\": \"dance pop\", \"is_collab\": 0.6666666666666666}, {\"year\": 2018, \"primary_genre\": \"pop\", \"is_collab\": 0.3460207612456747}, {\"year\": 2018, \"primary_genre\": \"rap\", \"is_collab\": 0.44313725490196076}, {\"year\": 2018, \"primary_genre\": \"rock\", \"is_collab\": 0.019230769230769232}, {\"year\": 2019, \"primary_genre\": \"adult standards\", \"is_collab\": 0.6}, {\"year\": 2019, \"primary_genre\": \"classical\", \"is_collab\": 1.0}, {\"year\": 2019, \"primary_genre\": \"country\", \"is_collab\": 0.10344827586206896}, {\"year\": 2019, \"primary_genre\": \"dance pop\", \"is_collab\": 0.5454545454545454}, {\"year\": 2019, \"primary_genre\": \"pop\", \"is_collab\": 0.3323170731707317}, {\"year\": 2019, \"primary_genre\": \"rap\", \"is_collab\": 0.46060606060606063}, {\"year\": 2019, \"primary_genre\": \"rock\", \"is_collab\": 0.015267175572519083}, {\"year\": 2020, \"primary_genre\": \"adult standards\", \"is_collab\": 0.0625}, {\"year\": 2020, \"primary_genre\": \"classical\", \"is_collab\": 1.0}, {\"year\": 2020, \"primary_genre\": \"country\", \"is_collab\": 0.25806451612903225}, {\"year\": 2020, \"primary_genre\": \"dance pop\", \"is_collab\": 0.45161290322580644}, {\"year\": 2020, \"primary_genre\": \"pop\", \"is_collab\": 0.3685636856368564}, {\"year\": 2020, \"primary_genre\": \"rap\", \"is_collab\": 0.5213675213675214}, {\"year\": 2020, \"primary_genre\": \"rock\", \"is_collab\": 0.1}]}}, {\"mode\": \"vega-lite\"});\n",
       "</script>"
      ],
      "text/plain": [
       "alt.Chart(...)"
      ]
     },
     "execution_count": 31,
     "metadata": {},
     "output_type": "execute_result"
    }
   ],
   "source": [
    "# Line Graph to show which genre’s have highest/lowest collaboration rate through the years\n",
    "# X-axis: time(year)\n",
    "# Y-axis: percentage of collaborations in that year\n",
    "# Color: genre \n",
    "\n",
    "# Setup chart\n",
    "chart = alt.Chart(collabs, title='Collaboration rate per year by Genre from 1970 to 2020').properties(\n",
    "    width=800,\n",
    "    height=500\n",
    ")\n",
    "\n",
    "# Creating checkboxes\n",
    "input_checkboxes = alt.binding_radio(options=genres)\n",
    "selection = alt.selection_multi(fields=['primary_genre'], bind='legend')\n",
    "color = alt.condition(selection,\n",
    "                    alt.Color('primary_genre:N'),\n",
    "                    alt.value('lightgray'))\n",
    "\n",
    "# Plot accordingly\n",
    "line_chart = chart.mark_line(size=3).encode(\n",
    "    x='year:O',\n",
    "    y='is_collab:Q',\n",
    "    color='primary_genre',\n",
    "    opacity=alt.condition(selection, alt.value(1), alt.value(0.2)),\n",
    "    tooltip=['is_collab', 'year', 'primary_genre']\n",
    ").add_selection(\n",
    "    selection\n",
    ").properties(\n",
    "    width=1100, height=500\n",
    ").configure_legend(\n",
    "    labelFontSize = 20,\n",
    "    symbolSize = 900,\n",
    "    symbolStrokeWidth = 20,\n",
    "    titleFontSize = 20\n",
    ")\n",
    "\n",
    "line_chart # For usage, shift click different countries"
   ]
  },
  {
   "cell_type": "code",
   "execution_count": null,
   "metadata": {},
   "outputs": [],
   "source": []
  },
  {
   "cell_type": "code",
   "execution_count": null,
   "metadata": {},
   "outputs": [],
   "source": []
  },
  {
   "cell_type": "code",
   "execution_count": null,
   "metadata": {},
   "outputs": [],
   "source": []
  }
 ],
 "metadata": {
  "kernelspec": {
   "display_name": "Python 3",
   "language": "python",
   "name": "python3"
  },
  "language_info": {
   "codemirror_mode": {
    "name": "ipython",
    "version": 3
   },
   "file_extension": ".py",
   "mimetype": "text/x-python",
   "name": "python",
   "nbconvert_exporter": "python",
   "pygments_lexer": "ipython3",
   "version": "3.8.3"
  }
 },
 "nbformat": 4,
 "nbformat_minor": 4
}
