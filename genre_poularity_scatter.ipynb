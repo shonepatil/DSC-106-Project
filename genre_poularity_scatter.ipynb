{
 "cells": [
  {
   "cell_type": "code",
   "execution_count": 1,
   "metadata": {},
   "outputs": [],
   "source": [
    "import pandas as pd\n",
    "import numpy as np\n",
    "import altair as alt"
   ]
  },
  {
   "cell_type": "code",
   "execution_count": 2,
   "metadata": {},
   "outputs": [],
   "source": [
    "# bring in data\n",
    "df = pd.read_csv('data_master.csv')"
   ]
  },
  {
   "cell_type": "code",
   "execution_count": 3,
   "metadata": {},
   "outputs": [],
   "source": [
    "# Create year column\n",
    "df['year'] = df['release_date'].astype('datetime64[ns]').apply(lambda x: x.year)"
   ]
  },
  {
   "cell_type": "code",
   "execution_count": 5,
   "metadata": {},
   "outputs": [
    {
     "data": {
      "text/plain": [
       "Index(['acousticness', 'artists', 'danceability', 'duration_ms', 'energy',\n",
       "       'explicit', 'id', 'instrumentalness', 'key', 'liveness', 'loudness',\n",
       "       'mode', 'name', 'popularity', 'release_date', 'speechiness', 'tempo',\n",
       "       'valence', 'year', 'primary_artist', 'collaborators', 'is_collab',\n",
       "       'primary_genre'],\n",
       "      dtype='object')"
      ]
     },
     "execution_count": 5,
     "metadata": {},
     "output_type": "execute_result"
    }
   ],
   "source": [
    "df.columns"
   ]
  },
  {
   "cell_type": "code",
   "execution_count": 12,
   "metadata": {},
   "outputs": [
    {
     "data": {
      "text/html": [
       "<div>\n",
       "<style scoped>\n",
       "    .dataframe tbody tr th:only-of-type {\n",
       "        vertical-align: middle;\n",
       "    }\n",
       "\n",
       "    .dataframe tbody tr th {\n",
       "        vertical-align: top;\n",
       "    }\n",
       "\n",
       "    .dataframe thead th {\n",
       "        text-align: right;\n",
       "    }\n",
       "</style>\n",
       "<table border=\"1\" class=\"dataframe\">\n",
       "  <thead>\n",
       "    <tr style=\"text-align: right;\">\n",
       "      <th></th>\n",
       "      <th>primary_genre</th>\n",
       "      <th>is_collab</th>\n",
       "      <th>popularity</th>\n",
       "    </tr>\n",
       "  </thead>\n",
       "  <tbody>\n",
       "    <tr>\n",
       "      <th>16</th>\n",
       "      <td>k-pop</td>\n",
       "      <td>0.152047</td>\n",
       "      <td>57.087719</td>\n",
       "    </tr>\n",
       "    <tr>\n",
       "      <th>21</th>\n",
       "      <td>pop</td>\n",
       "      <td>0.227953</td>\n",
       "      <td>56.318913</td>\n",
       "    </tr>\n",
       "    <tr>\n",
       "      <th>15</th>\n",
       "      <td>indie pop</td>\n",
       "      <td>0.063091</td>\n",
       "      <td>55.990536</td>\n",
       "    </tr>\n",
       "    <tr>\n",
       "      <th>23</th>\n",
       "      <td>pop rap</td>\n",
       "      <td>0.301639</td>\n",
       "      <td>54.019672</td>\n",
       "    </tr>\n",
       "    <tr>\n",
       "      <th>19</th>\n",
       "      <td>modern rock</td>\n",
       "      <td>0.034530</td>\n",
       "      <td>53.966851</td>\n",
       "    </tr>\n",
       "  </tbody>\n",
       "</table>\n",
       "</div>"
      ],
      "text/plain": [
       "   primary_genre  is_collab  popularity\n",
       "16         k-pop   0.152047   57.087719\n",
       "21           pop   0.227953   56.318913\n",
       "15     indie pop   0.063091   55.990536\n",
       "23       pop rap   0.301639   54.019672\n",
       "19   modern rock   0.034530   53.966851"
      ]
     },
     "execution_count": 12,
     "metadata": {},
     "output_type": "execute_result"
    }
   ],
   "source": [
    "collabs = df[['primary_genre', 'is_collab', 'popularity']].groupby(['primary_genre']).mean().reset_index()\n",
    "collabs = collabs.sort_values(by='popularity', ascending = False)\n",
    "collabs.head()"
   ]
  },
  {
   "cell_type": "code",
   "execution_count": 46,
   "metadata": {},
   "outputs": [
    {
     "data": {
      "text/html": [
       "\n",
       "<div id=\"altair-viz-6d5375fcc2724e94b70b56bf48334344\"></div>\n",
       "<script type=\"text/javascript\">\n",
       "  (function(spec, embedOpt){\n",
       "    let outputDiv = document.currentScript.previousElementSibling;\n",
       "    if (outputDiv.id !== \"altair-viz-6d5375fcc2724e94b70b56bf48334344\") {\n",
       "      outputDiv = document.getElementById(\"altair-viz-6d5375fcc2724e94b70b56bf48334344\");\n",
       "    }\n",
       "    const paths = {\n",
       "      \"vega\": \"https://cdn.jsdelivr.net/npm//vega@5?noext\",\n",
       "      \"vega-lib\": \"https://cdn.jsdelivr.net/npm//vega-lib?noext\",\n",
       "      \"vega-lite\": \"https://cdn.jsdelivr.net/npm//vega-lite@4.8.1?noext\",\n",
       "      \"vega-embed\": \"https://cdn.jsdelivr.net/npm//vega-embed@6?noext\",\n",
       "    };\n",
       "\n",
       "    function loadScript(lib) {\n",
       "      return new Promise(function(resolve, reject) {\n",
       "        var s = document.createElement('script');\n",
       "        s.src = paths[lib];\n",
       "        s.async = true;\n",
       "        s.onload = () => resolve(paths[lib]);\n",
       "        s.onerror = () => reject(`Error loading script: ${paths[lib]}`);\n",
       "        document.getElementsByTagName(\"head\")[0].appendChild(s);\n",
       "      });\n",
       "    }\n",
       "\n",
       "    function showError(err) {\n",
       "      outputDiv.innerHTML = `<div class=\"error\" style=\"color:red;\">${err}</div>`;\n",
       "      throw err;\n",
       "    }\n",
       "\n",
       "    function displayChart(vegaEmbed) {\n",
       "      vegaEmbed(outputDiv, spec, embedOpt)\n",
       "        .catch(err => showError(`Javascript Error: ${err.message}<br>This usually means there's a typo in your chart specification. See the javascript console for the full traceback.`));\n",
       "    }\n",
       "\n",
       "    if(typeof define === \"function\" && define.amd) {\n",
       "      requirejs.config({paths});\n",
       "      require([\"vega-embed\"], displayChart, err => showError(`Error loading script: ${err.message}`));\n",
       "    } else if (typeof vegaEmbed === \"function\") {\n",
       "      displayChart(vegaEmbed);\n",
       "    } else {\n",
       "      loadScript(\"vega\")\n",
       "        .then(() => loadScript(\"vega-lite\"))\n",
       "        .then(() => loadScript(\"vega-embed\"))\n",
       "        .catch(showError)\n",
       "        .then(() => displayChart(vegaEmbed));\n",
       "    }\n",
       "  })({\"config\": {\"view\": {\"continuousWidth\": 400, \"continuousHeight\": 300}}, \"hconcat\": [{\"mark\": {\"type\": \"point\", \"filled\": true, \"size\": 100}, \"encoding\": {\"color\": {\"type\": \"nominal\", \"field\": \"primary_genre\", \"legend\": null}, \"tooltip\": [{\"type\": \"quantitative\", \"field\": \"is_collab\"}, {\"type\": \"quantitative\", \"field\": \"popularity\"}, {\"type\": \"nominal\", \"field\": \"primary_genre\"}], \"x\": {\"type\": \"quantitative\", \"field\": \"is_collab\"}, \"y\": {\"type\": \"quantitative\", \"field\": \"popularity\"}}, \"selection\": {\"selector032\": {\"type\": \"interval\", \"encodings\": [\"x\", \"y\"]}}, \"title\": \"Collaboration Rate and Mean Popularity by Genre\"}, {\"vconcat\": [{\"mark\": \"bar\", \"encoding\": {\"color\": {\"type\": \"nominal\", \"field\": \"primary_genre\"}, \"x\": {\"type\": \"quantitative\", \"field\": \"popularity\"}, \"y\": {\"type\": \"nominal\", \"field\": \"primary_genre\", \"sort\": \"-x\"}}, \"transform\": [{\"filter\": {\"selection\": \"selector032\"}}]}, {\"mark\": \"bar\", \"encoding\": {\"color\": {\"type\": \"nominal\", \"field\": \"primary_genre\"}, \"x\": {\"type\": \"quantitative\", \"field\": \"is_collab\"}, \"y\": {\"type\": \"nominal\", \"field\": \"primary_genre\", \"sort\": \"-x\"}}, \"transform\": [{\"filter\": {\"selection\": \"selector032\"}}]}]}], \"data\": {\"name\": \"data-c957f59b26fc35e196b84c1ef8a2e82d\"}, \"$schema\": \"https://vega.github.io/schema/vega-lite/v4.8.1.json\", \"datasets\": {\"data-c957f59b26fc35e196b84c1ef8a2e82d\": [{\"primary_genre\": \"k-pop\", \"is_collab\": 0.15204678362573099, \"popularity\": 57.08771929824562}, {\"primary_genre\": \"pop\", \"is_collab\": 0.22795341098169716, \"popularity\": 56.318912922906264}, {\"primary_genre\": \"indie pop\", \"is_collab\": 0.06309148264984227, \"popularity\": 55.99053627760252}, {\"primary_genre\": \"pop rap\", \"is_collab\": 0.3016393442622951, \"popularity\": 54.019672131147544}, {\"primary_genre\": \"modern rock\", \"is_collab\": 0.034530386740331494, \"popularity\": 53.966850828729285}, {\"primary_genre\": \"rap\", \"is_collab\": 0.3604772870002093, \"popularity\": 52.80364245342265}, {\"primary_genre\": \"trap\", \"is_collab\": 0.2832369942196532, \"popularity\": 51.27167630057804}, {\"primary_genre\": \"r&b\", \"is_collab\": 0.16666666666666666, \"popularity\": 51.166666666666664}, {\"primary_genre\": \"dance pop\", \"is_collab\": 0.19677734375, \"popularity\": 46.6787109375}, {\"primary_genre\": \"country\", \"is_collab\": 0.07620941020543406, \"popularity\": 46.24983432736912}, {\"primary_genre\": \"pop rock\", \"is_collab\": 0.05651846269781462, \"popularity\": 45.94122079879427}, {\"primary_genre\": \"hip hop\", \"is_collab\": 0.27906976744186046, \"popularity\": 45.54521963824289}, {\"primary_genre\": \"southern hip hop\", \"is_collab\": 0.3333333333333333, \"popularity\": 43.333333333333336}, {\"primary_genre\": \"latin\", \"is_collab\": 0.18000675447483958, \"popularity\": 42.41506247889227}, {\"primary_genre\": \"gangster rap\", \"is_collab\": 0.2112676056338028, \"popularity\": 41.683098591549296}, {\"primary_genre\": \"new wave pop\", \"is_collab\": 0.028888888888888888, \"popularity\": 37.74}, {\"primary_genre\": \"soft rock\", \"is_collab\": 0.04736091298145506, \"popularity\": 37.6225392296719}, {\"primary_genre\": \"rock\", \"is_collab\": 0.024138080200718087, \"popularity\": 37.37245317298957}, {\"primary_genre\": \"urban contemporary\", \"is_collab\": 0.11541381928625664, \"popularity\": 37.15261958997722}, {\"primary_genre\": \"quiet storm\", \"is_collab\": 0.02564102564102564, \"popularity\": 34.3974358974359}, {\"primary_genre\": \"alternative rock\", \"is_collab\": 0.017871017871017872, \"popularity\": 33.473970473970475}, {\"primary_genre\": \"funk\", \"is_collab\": 0.05931938807368092, \"popularity\": 32.55635341867}, {\"primary_genre\": \"country rock\", \"is_collab\": 0.05684518369585085, \"popularity\": 31.79912264668251}, {\"primary_genre\": \"album rock\", \"is_collab\": 0.004739336492890996, \"popularity\": 31.33175355450237}, {\"primary_genre\": \"classic rock\", \"is_collab\": 0.09650582362728785, \"popularity\": 29.928452579034943}, {\"primary_genre\": \"soul\", \"is_collab\": 0.011891891891891892, \"popularity\": 29.90810810810811}, {\"primary_genre\": \"folk rock\", \"is_collab\": 0.005701254275940707, \"popularity\": 28.52109464082098}, {\"primary_genre\": \"mellow gold\", \"is_collab\": 0.22292191435768263, \"popularity\": 26.11712846347607}, {\"primary_genre\": \"Other\", \"is_collab\": 0.18695496783416726, \"popularity\": 24.896765546819157}, {\"primary_genre\": \"adult standards\", \"is_collab\": 0.15863468912111872, \"popularity\": 23.95669498533945}, {\"primary_genre\": \"brill building pop\", \"is_collab\": 0.03877551020408163, \"popularity\": 23.759183673469387}, {\"primary_genre\": \"pop dance\", \"is_collab\": 0.4154929577464789, \"popularity\": 18.93838028169014}, {\"primary_genre\": \"classical\", \"is_collab\": 0.9846614630604466, \"popularity\": 7.942094754038846}, {\"primary_genre\": \"Unknown\", \"is_collab\": 0.21068769163381515, \"popularity\": 4.684077967586509}, {\"primary_genre\": \"tango\", \"is_collab\": 0.43172690763052207, \"popularity\": 0.3095716198125837}]}}, {\"mode\": \"vega-lite\"});\n",
       "</script>"
      ],
      "text/plain": [
       "alt.HConcatChart(...)"
      ]
     },
     "execution_count": 46,
     "metadata": {},
     "output_type": "execute_result"
    }
   ],
   "source": [
    "# Load into a chart\n",
    "chart_scatter = alt.Chart(collabs, title='Collaboration Rate and Mean Popularity by Genre')\n",
    "chart_bar = alt.Chart(collabs)\n",
    "\n",
    "brush = alt.selection_interval(encodings=['x', 'y'])  # selection of type \"interval\"\n",
    "\n",
    "# Interactive Scatter Plot\n",
    "# Dots are filled in, variables are mapped accordingly to x, y, size, color, and tooltip\n",
    "scatter = chart_scatter.mark_point(filled=True, size = 100).encode( \n",
    "    x='is_collab',\n",
    "    y='popularity',\n",
    "    color=alt.Color('primary_genre', legend=None),\n",
    "    tooltip=['is_collab', 'popularity', 'primary_genre']\n",
    ").add_selection(\n",
    "    brush\n",
    ")\n",
    "\n",
    "# Linked Bar Chart for popularity\n",
    "bar_pop = chart_bar.mark_bar().encode(\n",
    "    y= alt.Y('primary_genre:N', sort='-x'),\n",
    "    x='popularity:Q', \n",
    "    color = 'primary_genre'\n",
    ").transform_filter(brush)\n",
    "\n",
    "# Linked Bar Chart for collab rate\n",
    "bar_collab = chart_bar.mark_bar().encode(\n",
    "    y= alt.Y('primary_genre:N', sort='-x'),\n",
    "    x='is_collab:Q', \n",
    "    color = 'primary_genre'\n",
    ").transform_filter(brush)\n",
    "\n",
    "scatter | bar_pop & bar_collab"
   ]
  }
 ],
 "metadata": {
  "kernelspec": {
   "display_name": "Python 3",
   "language": "python",
   "name": "python3"
  },
  "language_info": {
   "codemirror_mode": {
    "name": "ipython",
    "version": 3
   },
   "file_extension": ".py",
   "mimetype": "text/x-python",
   "name": "python",
   "nbconvert_exporter": "python",
   "pygments_lexer": "ipython3",
   "version": "3.8.3"
  }
 },
 "nbformat": 4,
 "nbformat_minor": 4
}
