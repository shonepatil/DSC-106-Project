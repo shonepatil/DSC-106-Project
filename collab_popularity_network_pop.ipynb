{
 "cells": [
  {
   "cell_type": "code",
   "execution_count": 1,
   "metadata": {},
   "outputs": [],
   "source": [
    "import pandas as pd\n",
    "import numpy as np\n",
    "import altair as alt\n",
    "import networkx as nx\n",
    "from pyvis.network import Network\n",
    "from ast import literal_eval"
   ]
  },
  {
   "cell_type": "code",
   "execution_count": 2,
   "metadata": {},
   "outputs": [],
   "source": [
    "# bring in data\n",
    "df = pd.read_csv('data_master.csv')\n",
    "\n",
    "# Create year column\n",
    "df['year'] = df['release_date'].astype('datetime64[ns]').apply(lambda x: x.year)\n",
    "\n",
    "# Filter needed columns\n",
    "df = df[df['is_collab'] == True][['popularity', 'name', 'primary_genre', 'year', 'artists', 'collaborators']]\n",
    "df['artists'] = df['artists'].apply(lambda x: literal_eval(x))"
   ]
  },
  {
   "cell_type": "code",
   "execution_count": 4,
   "metadata": {},
   "outputs": [
    {
     "data": {
      "text/html": [
       "\n",
       "        <iframe\n",
       "            width=\"1400\"\n",
       "            height=\"700\"\n",
       "            src=\"pop.html\"\n",
       "            frameborder=\"0\"\n",
       "            allowfullscreen\n",
       "        ></iframe>\n",
       "        "
      ],
      "text/plain": [
       "<IPython.lib.display.IFrame at 0x7fc15518c0d0>"
      ]
     },
     "execution_count": 4,
     "metadata": {},
     "output_type": "execute_result"
    }
   ],
   "source": [
    "# Find all nodes and edges to plot\n",
    "top50_pop = df[df['primary_genre'] == 'pop'].sort_values(by='popularity', ascending = False)\\\n",
    "    .head(50)[['artists', 'name', 'popularity','primary_genre']]\n",
    "top50_pop\n",
    "\n",
    "# Create graph\n",
    "graph = nx.Graph()\n",
    "\n",
    "# Populate Edges\n",
    "edges = []\n",
    "for row in top50_pop.iterrows():\n",
    "    items = row[1]['artists']\n",
    "    edges += [(items[i],items[j],{'title': row[1]['name'] + \", Popularity: \" + str(row[1]['popularity']), \\\n",
    "                                  'width': row[1]['popularity']/100 + 2}) \\\n",
    "              for i in range(len(items)) for j in range(i+1, len(items))]\n",
    "    \n",
    "graph.add_edges_from(edges)\n",
    "\n",
    "# Compute positions for viz.\n",
    "pos = nx.spring_layout(graph)\n",
    "\n",
    "# Display graph of top 50 pop collaborations\n",
    "g = Network(height = 700, width = 1400, notebook = True, bgcolor=\"#222222\", font_color=\"white\")\n",
    "g.toggle_hide_edges_on_drag(False)\n",
    "g.force_atlas_2based()\n",
    "g.from_nx(graph)\n",
    "g.show('pop.html')"
   ]
  },
  {
   "cell_type": "code",
   "execution_count": null,
   "metadata": {},
   "outputs": [],
   "source": []
  }
 ],
 "metadata": {
  "kernelspec": {
   "display_name": "Python 3",
   "language": "python",
   "name": "python3"
  },
  "language_info": {
   "codemirror_mode": {
    "name": "ipython",
    "version": 3
   },
   "file_extension": ".py",
   "mimetype": "text/x-python",
   "name": "python",
   "nbconvert_exporter": "python",
   "pygments_lexer": "ipython3",
   "version": "3.8.3"
  }
 },
 "nbformat": 4,
 "nbformat_minor": 4
}
