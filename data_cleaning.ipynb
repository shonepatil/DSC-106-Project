{
 "cells": [
  {
   "cell_type": "code",
   "execution_count": 2,
   "metadata": {},
   "outputs": [],
   "source": [
    "import pandas as pd\n",
    "import numpy as np\n",
    "from ast import literal_eval"
   ]
  },
  {
   "cell_type": "code",
   "execution_count": 3,
   "metadata": {},
   "outputs": [],
   "source": [
    "# Load song data\n",
    "songs = pd.read_csv('./archive/data.csv')"
   ]
  },
  {
   "cell_type": "code",
   "execution_count": 4,
   "metadata": {},
   "outputs": [],
   "source": [
    "# Convert all strings in artists to a list of strings\n",
    "songs['artists'] = songs['artists'].apply(lambda x: literal_eval(x))"
   ]
  },
  {
   "cell_type": "code",
   "execution_count": 5,
   "metadata": {},
   "outputs": [],
   "source": [
    "# Extract primary artist\n",
    "songs['primary_artist'] = songs['artists'].apply(lambda x: x[0])"
   ]
  },
  {
   "cell_type": "code",
   "execution_count": 6,
   "metadata": {},
   "outputs": [],
   "source": [
    "# Extract collaborating artists\n",
    "songs['collaborators'] = songs['artists'].apply(lambda x: x[1:])"
   ]
  },
  {
   "cell_type": "code",
   "execution_count": 7,
   "metadata": {},
   "outputs": [],
   "source": [
    "# Create boolean column to define if a song is a collaboration or not\n",
    "songs['is_collab'] = songs['collaborators'].map(len)>0"
   ]
  },
  {
   "cell_type": "code",
   "execution_count": 8,
   "metadata": {
    "scrolled": false
   },
   "outputs": [
    {
     "data": {
      "text/html": [
       "<div>\n",
       "<style scoped>\n",
       "    .dataframe tbody tr th:only-of-type {\n",
       "        vertical-align: middle;\n",
       "    }\n",
       "\n",
       "    .dataframe tbody tr th {\n",
       "        vertical-align: top;\n",
       "    }\n",
       "\n",
       "    .dataframe thead th {\n",
       "        text-align: right;\n",
       "    }\n",
       "</style>\n",
       "<table border=\"1\" class=\"dataframe\">\n",
       "  <thead>\n",
       "    <tr style=\"text-align: right;\">\n",
       "      <th></th>\n",
       "      <th>acousticness</th>\n",
       "      <th>artists</th>\n",
       "      <th>danceability</th>\n",
       "      <th>duration_ms</th>\n",
       "      <th>energy</th>\n",
       "      <th>explicit</th>\n",
       "      <th>id</th>\n",
       "      <th>instrumentalness</th>\n",
       "      <th>key</th>\n",
       "      <th>liveness</th>\n",
       "      <th>...</th>\n",
       "      <th>name</th>\n",
       "      <th>popularity</th>\n",
       "      <th>release_date</th>\n",
       "      <th>speechiness</th>\n",
       "      <th>tempo</th>\n",
       "      <th>valence</th>\n",
       "      <th>year</th>\n",
       "      <th>primary_artist</th>\n",
       "      <th>collaborators</th>\n",
       "      <th>is_collab</th>\n",
       "    </tr>\n",
       "  </thead>\n",
       "  <tbody>\n",
       "    <tr>\n",
       "      <th>0</th>\n",
       "      <td>0.991000</td>\n",
       "      <td>[Mamie Smith]</td>\n",
       "      <td>0.598</td>\n",
       "      <td>168333</td>\n",
       "      <td>0.224</td>\n",
       "      <td>0</td>\n",
       "      <td>0cS0A1fUEUd1EW3FcF8AEI</td>\n",
       "      <td>0.000522</td>\n",
       "      <td>5</td>\n",
       "      <td>0.3790</td>\n",
       "      <td>...</td>\n",
       "      <td>Keep A Song In Your Soul</td>\n",
       "      <td>12</td>\n",
       "      <td>1920</td>\n",
       "      <td>0.0936</td>\n",
       "      <td>149.976</td>\n",
       "      <td>0.6340</td>\n",
       "      <td>1920</td>\n",
       "      <td>Mamie Smith</td>\n",
       "      <td>[]</td>\n",
       "      <td>False</td>\n",
       "    </tr>\n",
       "    <tr>\n",
       "      <th>1</th>\n",
       "      <td>0.643000</td>\n",
       "      <td>[Screamin' Jay Hawkins]</td>\n",
       "      <td>0.852</td>\n",
       "      <td>150200</td>\n",
       "      <td>0.517</td>\n",
       "      <td>0</td>\n",
       "      <td>0hbkKFIJm7Z05H8Zl9w30f</td>\n",
       "      <td>0.026400</td>\n",
       "      <td>5</td>\n",
       "      <td>0.0809</td>\n",
       "      <td>...</td>\n",
       "      <td>I Put A Spell On You</td>\n",
       "      <td>7</td>\n",
       "      <td>1920-01-05</td>\n",
       "      <td>0.0534</td>\n",
       "      <td>86.889</td>\n",
       "      <td>0.9500</td>\n",
       "      <td>1920</td>\n",
       "      <td>Screamin' Jay Hawkins</td>\n",
       "      <td>[]</td>\n",
       "      <td>False</td>\n",
       "    </tr>\n",
       "    <tr>\n",
       "      <th>2</th>\n",
       "      <td>0.993000</td>\n",
       "      <td>[Mamie Smith]</td>\n",
       "      <td>0.647</td>\n",
       "      <td>163827</td>\n",
       "      <td>0.186</td>\n",
       "      <td>0</td>\n",
       "      <td>11m7laMUgmOKqI3oYzuhne</td>\n",
       "      <td>0.000018</td>\n",
       "      <td>0</td>\n",
       "      <td>0.5190</td>\n",
       "      <td>...</td>\n",
       "      <td>Golfing Papa</td>\n",
       "      <td>4</td>\n",
       "      <td>1920</td>\n",
       "      <td>0.1740</td>\n",
       "      <td>97.600</td>\n",
       "      <td>0.6890</td>\n",
       "      <td>1920</td>\n",
       "      <td>Mamie Smith</td>\n",
       "      <td>[]</td>\n",
       "      <td>False</td>\n",
       "    </tr>\n",
       "    <tr>\n",
       "      <th>3</th>\n",
       "      <td>0.000173</td>\n",
       "      <td>[Oscar Velazquez]</td>\n",
       "      <td>0.730</td>\n",
       "      <td>422087</td>\n",
       "      <td>0.798</td>\n",
       "      <td>0</td>\n",
       "      <td>19Lc5SfJJ5O1oaxY0fpwfh</td>\n",
       "      <td>0.801000</td>\n",
       "      <td>2</td>\n",
       "      <td>0.1280</td>\n",
       "      <td>...</td>\n",
       "      <td>True House Music - Xavier Santos &amp; Carlos Gomi...</td>\n",
       "      <td>17</td>\n",
       "      <td>1920-01-01</td>\n",
       "      <td>0.0425</td>\n",
       "      <td>127.997</td>\n",
       "      <td>0.0422</td>\n",
       "      <td>1920</td>\n",
       "      <td>Oscar Velazquez</td>\n",
       "      <td>[]</td>\n",
       "      <td>False</td>\n",
       "    </tr>\n",
       "    <tr>\n",
       "      <th>4</th>\n",
       "      <td>0.295000</td>\n",
       "      <td>[Mixe]</td>\n",
       "      <td>0.704</td>\n",
       "      <td>165224</td>\n",
       "      <td>0.707</td>\n",
       "      <td>1</td>\n",
       "      <td>2hJjbsLCytGsnAHfdsLejp</td>\n",
       "      <td>0.000246</td>\n",
       "      <td>10</td>\n",
       "      <td>0.4020</td>\n",
       "      <td>...</td>\n",
       "      <td>Xuniverxe</td>\n",
       "      <td>2</td>\n",
       "      <td>1920-10-01</td>\n",
       "      <td>0.0768</td>\n",
       "      <td>122.076</td>\n",
       "      <td>0.2990</td>\n",
       "      <td>1920</td>\n",
       "      <td>Mixe</td>\n",
       "      <td>[]</td>\n",
       "      <td>False</td>\n",
       "    </tr>\n",
       "  </tbody>\n",
       "</table>\n",
       "<p>5 rows × 22 columns</p>\n",
       "</div>"
      ],
      "text/plain": [
       "   acousticness                  artists  danceability  duration_ms  energy  \\\n",
       "0      0.991000            [Mamie Smith]         0.598       168333   0.224   \n",
       "1      0.643000  [Screamin' Jay Hawkins]         0.852       150200   0.517   \n",
       "2      0.993000            [Mamie Smith]         0.647       163827   0.186   \n",
       "3      0.000173        [Oscar Velazquez]         0.730       422087   0.798   \n",
       "4      0.295000                   [Mixe]         0.704       165224   0.707   \n",
       "\n",
       "   explicit                      id  instrumentalness  key  liveness  ...  \\\n",
       "0         0  0cS0A1fUEUd1EW3FcF8AEI          0.000522    5    0.3790  ...   \n",
       "1         0  0hbkKFIJm7Z05H8Zl9w30f          0.026400    5    0.0809  ...   \n",
       "2         0  11m7laMUgmOKqI3oYzuhne          0.000018    0    0.5190  ...   \n",
       "3         0  19Lc5SfJJ5O1oaxY0fpwfh          0.801000    2    0.1280  ...   \n",
       "4         1  2hJjbsLCytGsnAHfdsLejp          0.000246   10    0.4020  ...   \n",
       "\n",
       "                                                name  popularity release_date  \\\n",
       "0                           Keep A Song In Your Soul          12         1920   \n",
       "1                               I Put A Spell On You           7   1920-01-05   \n",
       "2                                       Golfing Papa           4         1920   \n",
       "3  True House Music - Xavier Santos & Carlos Gomi...          17   1920-01-01   \n",
       "4                                          Xuniverxe           2   1920-10-01   \n",
       "\n",
       "   speechiness    tempo  valence  year         primary_artist  collaborators  \\\n",
       "0       0.0936  149.976   0.6340  1920            Mamie Smith             []   \n",
       "1       0.0534   86.889   0.9500  1920  Screamin' Jay Hawkins             []   \n",
       "2       0.1740   97.600   0.6890  1920            Mamie Smith             []   \n",
       "3       0.0425  127.997   0.0422  1920        Oscar Velazquez             []   \n",
       "4       0.0768  122.076   0.2990  1920                   Mixe             []   \n",
       "\n",
       "  is_collab  \n",
       "0     False  \n",
       "1     False  \n",
       "2     False  \n",
       "3     False  \n",
       "4     False  \n",
       "\n",
       "[5 rows x 22 columns]"
      ]
     },
     "execution_count": 8,
     "metadata": {},
     "output_type": "execute_result"
    }
   ],
   "source": [
    "songs.head()"
   ]
  },
  {
   "cell_type": "code",
   "execution_count": 9,
   "metadata": {},
   "outputs": [],
   "source": [
    "# Load genre data\n",
    "artists = pd.read_csv('./archive/data_w_genres.csv')"
   ]
  },
  {
   "cell_type": "code",
   "execution_count": 10,
   "metadata": {},
   "outputs": [],
   "source": [
    "# Find the most frequently labeled genres\n",
    "genres = pd.Series(artists['genres'].apply(lambda x: literal_eval(x)).sum()).value_counts()"
   ]
  },
  {
   "cell_type": "code",
   "execution_count": 11,
   "metadata": {},
   "outputs": [],
   "source": [
    "# Find top 30 genres\n",
    "genres = genres[:30]"
   ]
  },
  {
   "cell_type": "code",
   "execution_count": 12,
   "metadata": {},
   "outputs": [],
   "source": [
    "# Create set of genres\n",
    "artists['genres'] = artists['genres'].apply(lambda x: set(literal_eval(x)))"
   ]
  },
  {
   "cell_type": "code",
   "execution_count": 13,
   "metadata": {
    "scrolled": true
   },
   "outputs": [
    {
     "data": {
      "text/plain": [
       "rock                  601\n",
       "pop                   582\n",
       "dance pop             576\n",
       "rap                   498\n",
       "hip hop               487\n",
       "pop rap               463\n",
       "country rock          429\n",
       "urban contemporary    374\n",
       "pop rock              373\n",
       "mellow gold           368\n",
       "soft rock             368\n",
       "adult standards       360\n",
       "latin                 353\n",
       "trap                  346\n",
       "classic rock          337\n",
       "pop dance             332\n",
       "album rock            332\n",
       "modern rock           329\n",
       "funk                  323\n",
       "folk rock             321\n",
       "new wave pop          312\n",
       "alternative rock      302\n",
       "southern hip hop      301\n",
       "gangster rap          299\n",
       "country               292\n",
       "quiet storm           290\n",
       "r&b                   285\n",
       "indie pop             285\n",
       "soul                  285\n",
       "brill building pop    281\n",
       "dtype: int64"
      ]
     },
     "execution_count": 13,
     "metadata": {},
     "output_type": "execute_result"
    }
   ],
   "source": [
    "genres"
   ]
  },
  {
   "cell_type": "code",
   "execution_count": 14,
   "metadata": {
    "scrolled": true
   },
   "outputs": [],
   "source": [
    "# Add in missing key genres and assign primary genre based on existence in top 30\n",
    "def find_gen(sets):\n",
    "    if len(sets) == 0:\n",
    "        return 'Unknown'\n",
    "    for val in genres.index:\n",
    "        if val in sets:\n",
    "            return val\n",
    "    if 'k-pop' in sets:\n",
    "        return 'k-pop'\n",
    "    if 'classical' in sets:\n",
    "        return 'classical'\n",
    "    if 'tango' in sets:\n",
    "        return 'tango'\n",
    "    return 'Other'\n",
    "\n",
    "artists['primary_genre'] = artists['genres'].apply(lambda x: find_gen(x))"
   ]
  },
  {
   "cell_type": "code",
   "execution_count": 15,
   "metadata": {},
   "outputs": [],
   "source": [
    "# Clean up names of columns\n",
    "artists = artists.rename(columns={'artists': 'primary_artist'})"
   ]
  },
  {
   "cell_type": "code",
   "execution_count": 16,
   "metadata": {},
   "outputs": [],
   "source": [
    "# Join the songs and genre data to assign genre to every song\n",
    "final_data = songs.merge(artists[['primary_artist', 'primary_genre']], left_on='primary_artist', right_on='primary_artist', how='left')"
   ]
  },
  {
   "cell_type": "code",
   "execution_count": 17,
   "metadata": {
    "scrolled": true
   },
   "outputs": [
    {
     "data": {
      "text/plain": [
       "Other                 55960\n",
       "Unknown               27396\n",
       "rock                  23117\n",
       "adult standards       13301\n",
       "classical             11018\n",
       "country rock           5471\n",
       "pop                    5409\n",
       "rap                    4777\n",
       "mellow gold            3668\n",
       "funk                   3203\n",
       "tango                  2988\n",
       "latin                  2961\n",
       "dance pop              2048\n",
       "country                1509\n",
       "pop rock               1327\n",
       "urban contemporary     1317\n",
       "alternative rock       1287\n",
       "soul                    925\n",
       "new wave pop            900\n",
       "folk rock               877\n",
       "modern rock             724\n",
       "soft rock               631\n",
       "classic rock            601\n",
       "pop dance               568\n",
       "brill building pop      490\n",
       "hip hop                 387\n",
       "indie pop               317\n",
       "pop rap                 305\n",
       "album rock              211\n",
       "trap                    173\n",
       "k-pop                   171\n",
       "quiet storm             156\n",
       "gangster rap            142\n",
       "southern hip hop         30\n",
       "r&b                      12\n",
       "Name: primary_genre, dtype: int64"
      ]
     },
     "execution_count": 17,
     "metadata": {},
     "output_type": "execute_result"
    }
   ],
   "source": [
    "# Observe final counts for sanity\n",
    "final_data['primary_genre'].value_counts()"
   ]
  },
  {
   "cell_type": "code",
   "execution_count": 18,
   "metadata": {},
   "outputs": [
    {
     "data": {
      "text/plain": [
       "Johnny Cash                 508\n",
       "Miles Davis                 495\n",
       "Lata Mangeshkar             473\n",
       "Lead Belly                  340\n",
       "Bob Marley & The Wailers    274\n",
       "                           ... \n",
       "Chancellor                    1\n",
       "The Great Redneck Hope        1\n",
       "Audyaroad                     1\n",
       "Jon Hendricks                 1\n",
       "Coralie Clement               1\n",
       "Name: primary_artist, Length: 10500, dtype: int64"
      ]
     },
     "execution_count": 18,
     "metadata": {},
     "output_type": "execute_result"
    }
   ],
   "source": [
    "# Look at top artists in Other category\n",
    "final_data[final_data['primary_genre'] == 'Other']['primary_artist'].value_counts()"
   ]
  },
  {
   "cell_type": "code",
   "execution_count": 20,
   "metadata": {},
   "outputs": [],
   "source": [
    "# Export data as new dataset ready for visualizations\n",
    "final_data.to_csv(r'data_master.csv', index=False)"
   ]
  }
 ],
 "metadata": {
  "kernelspec": {
   "display_name": "Python 3",
   "language": "python",
   "name": "python3"
  },
  "language_info": {
   "codemirror_mode": {
    "name": "ipython",
    "version": 3
   },
   "file_extension": ".py",
   "mimetype": "text/x-python",
   "name": "python",
   "nbconvert_exporter": "python",
   "pygments_lexer": "ipython3",
   "version": "3.8.3"
  }
 },
 "nbformat": 4,
 "nbformat_minor": 4
}
